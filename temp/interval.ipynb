{
 "cells": [
  {
   "cell_type": "code",
   "execution_count": 19,
   "id": "4486f3b1",
   "metadata": {},
   "outputs": [],
   "source": [
    "import numpy as np\n",
    "import torch\n",
    "import matplotlib.pyplot as plt"
   ]
  },
  {
   "cell_type": "code",
   "execution_count": 20,
   "id": "7476911c",
   "metadata": {},
   "outputs": [],
   "source": [
    "class MyModel(torch.nn.Module):\n",
    "    def __init__(self):\n",
    "        super(MyModel, self).__init__()\n",
    "        self.fc1 = torch.nn.Linear(1, 8)\n",
    "        self.fc2 = torch.nn.Linear(8, 8)\n",
    "        self.fc3 = torch.nn.Linear(8, 1)\n",
    "\n",
    "    def forward(self, x):\n",
    "        y1 = torch.nn.functional.relu(self.fc1(x))\n",
    "        y2 = torch.nn.functional.relu(self.fc2(y1))\n",
    "        y3 = self.fc3(y2)\n",
    "        return y3"
   ]
  },
  {
   "cell_type": "code",
   "execution_count": 21,
   "id": "24285d8f",
   "metadata": {},
   "outputs": [
    {
     "data": {
      "text/plain": [
       "<All keys matched successfully>"
      ]
     },
     "execution_count": 21,
     "metadata": {},
     "output_type": "execute_result"
    }
   ],
   "source": [
    "model = MyModel()\n",
    "model.load_state_dict(torch.load('model_file.pkl'))"
   ]
  },
  {
   "cell_type": "code",
   "execution_count": 22,
   "id": "47f1fedd",
   "metadata": {},
   "outputs": [
    {
     "name": "stdout",
     "output_type": "stream",
     "text": [
      "tensor([[ 0.1398,  0.1233, -0.2072, -0.1857,  0.2394, -0.0824, -0.2259, -0.0365],\n",
      "        [-0.1383,  0.3103, -0.2891,  0.0753, -0.3075,  0.0308, -0.2461, -0.0866],\n",
      "        [-0.6201,  0.1185,  0.0770,  0.3261, -0.2686,  0.3532,  0.2687, -0.4672],\n",
      "        [-0.3240, -0.1424, -0.0219, -0.0521, -0.5631,  0.0064,  0.3645, -0.3428],\n",
      "        [ 0.4360, -0.2108,  0.1669, -0.2691, -0.6525,  0.0222,  0.6670, -0.7854],\n",
      "        [-0.0507, -0.2931,  0.2365,  0.1197,  0.0378, -0.0378, -0.3231, -0.2601],\n",
      "        [-0.2656,  0.1492,  0.1287, -0.1474, -0.3995,  0.3117,  0.3375, -0.4090],\n",
      "        [-0.3508, -0.2187, -0.0707,  0.0504, -0.2874, -0.0318, -0.1132,  0.2031]])\n"
     ]
    }
   ],
   "source": [
    "model.state_dict()\n",
    "print(list(model.named_parameters())[2][1].data)"
   ]
  },
  {
   "cell_type": "code",
   "execution_count": 23,
   "id": "d2623f8d",
   "metadata": {},
   "outputs": [
    {
     "data": {
      "text/plain": [
       "torch.Size([8, 1])"
      ]
     },
     "execution_count": 23,
     "metadata": {},
     "output_type": "execute_result"
    }
   ],
   "source": [
    "model.fc1.weight.shape"
   ]
  },
  {
   "cell_type": "code",
   "execution_count": 24,
   "id": "79cf1693",
   "metadata": {},
   "outputs": [],
   "source": [
    "l = torch.zeros((1,1))\n",
    "u = torch.ones((1,1))\n",
    "w = model.fc1.weight"
   ]
  },
  {
   "cell_type": "code",
   "execution_count": 25,
   "id": "e2678257",
   "metadata": {},
   "outputs": [],
   "source": [
    "def fc_interval(l, u, w, b):\n",
    "    s = (w>=0)*1\n",
    "    w1 = s*w    \n",
    "    w2 = (1-s)*w\n",
    "    \n",
    "    b = b.reshape(-1, 1)\n",
    "    \n",
    "    l_new = w1@l + w2@u + b\n",
    "    u_new = w2@l + w1@u + b\n",
    "    \n",
    "    return l_new, u_new\n",
    "    \n",
    "def relu_interval(l, u):\n",
    "    l_new = torch.zeros(l.shape)\n",
    "    u_new = u.clone()\n",
    "    \n",
    "    indices = (l>0)\n",
    "    l_new[indices] = l[indices]\n",
    "    \n",
    "    indices = (u<0)\n",
    "    u_new[indices] = 0\n",
    "\n",
    "    return l_new, u_new"
   ]
  },
  {
   "cell_type": "code",
   "execution_count": 26,
   "id": "92afeb50",
   "metadata": {},
   "outputs": [
    {
     "name": "stdout",
     "output_type": "stream",
     "text": [
      "tensor([[-0.1450]]) tensor([[0.6428]])\n",
      "tensor([[0.8621]]) tensor([[0.8652]])\n"
     ]
    }
   ],
   "source": [
    "n = 3\n",
    "l = torch.zeros((1,1))\n",
    "u = torch.ones((1,1))*0.5\n",
    "for i in range(n):\n",
    "    l, u = fc_interval(l, u, list(model.named_parameters())[2*i][1].data, list(model.named_parameters())[2*i+1][1].data)\n",
    "    if i!=n-1:\n",
    "        l, u = relu_interval(l, u)\n",
    "print(l, u)\n",
    "n = 3\n",
    "l = torch.ones((1,1))*0.999\n",
    "u = torch.ones((1,1))\n",
    "for i in range(n):\n",
    "    l, u = fc_interval(l, u, list(model.named_parameters())[2*i][1].data, list(model.named_parameters())[2*i+1][1].data)\n",
    "    if i!=n-1:\n",
    "        l, u = relu_interval(l, u)\n",
    "print(l, u)"
   ]
  },
  {
   "cell_type": "code",
   "execution_count": 27,
   "id": "b2eb1ef6",
   "metadata": {},
   "outputs": [
    {
     "name": "stdout",
     "output_type": "stream",
     "text": [
      "tensor([[-1.0726]]) tensor([[1.1007]])\n"
     ]
    }
   ],
   "source": [
    "n = 3\n",
    "# l = torch.zeros((1,1))\n",
    "# u = torch.ones((1,1))*0.5\n",
    "\n",
    "partitions = 200\n",
    "eps = 6/partitions\n",
    "\n",
    "\n",
    "l1 = 100\n",
    "u1 = -100\n",
    "\n",
    "for p in range(partitions):\n",
    "    l = torch.ones((1,1))*eps*p    \n",
    "    u = torch.ones((1,1))*eps*(p+1)\n",
    "    \n",
    "    for i in range(n):\n",
    "        l, u = fc_interval(l, u, list(model.named_parameters())[2*i][1].data, list(model.named_parameters())[2*i+1][1].data)\n",
    "        if i!=n-1:\n",
    "            l, u = relu_interval(l, u)\n",
    "            \n",
    "#     print(l, u)\n",
    "    l1 = min(l1, l)\n",
    "    u1 = max(u1, u)\n",
    "    \n",
    "print(l1, u1)"
   ]
  },
  {
   "cell_type": "code",
   "execution_count": 28,
   "id": "d15559bd",
   "metadata": {},
   "outputs": [],
   "source": [
    "import math"
   ]
  },
  {
   "cell_type": "code",
   "execution_count": 29,
   "id": "6dfe72fc",
   "metadata": {},
   "outputs": [
    {
     "data": {
      "text/plain": [
       "tensor([-0.9937], grad_fn=<AddBackward0>)"
      ]
     },
     "execution_count": 29,
     "metadata": {},
     "output_type": "execute_result"
    }
   ],
   "source": [
    "model(torch.tensor([4.8]))"
   ]
  },
  {
   "cell_type": "code",
   "execution_count": 30,
   "id": "d11fb41a",
   "metadata": {},
   "outputs": [],
   "source": [
    "def fc_d_interval(l, u, w, b):\n",
    "#     L, U are matrices now. L_{i, j} is the derivative of x_i wrt I_j\n",
    "    s = (w>=0)*1\n",
    "    w1 = s*w    \n",
    "    w2 = (1-s)*w\n",
    "    \n",
    "    l_new = w1@l + w2@u\n",
    "    u_new = w2@l + w1@u\n",
    "    \n",
    "    return l_new, u_new"
   ]
  },
  {
   "cell_type": "code",
   "execution_count": 31,
   "id": "d737410f",
   "metadata": {},
   "outputs": [],
   "source": [
    "def relu_d_interval(l, u, L, U):\n",
    "#     l, u : n X 1\n",
    "#     L, U : n X d\n",
    "#     L_new, U_new : n X d\n",
    "    L_temp_new = torch.zeros((l.shape))\n",
    "    U_temp_new = torch.ones((l.shape))\n",
    "    \n",
    "    indices = (l>0)\n",
    "    L_temp_new[indices] = 1\n",
    "    \n",
    "    indices = (u<0)\n",
    "    U_temp_new[indices] = 0\n",
    "\n",
    "    L_new = L * L_temp_new.view(-1,1)\n",
    "    U_new = U * U_temp_new.view(-1,1)\n",
    "    return L_new, U_new"
   ]
  },
  {
   "cell_type": "code",
   "execution_count": 32,
   "id": "b956a342",
   "metadata": {},
   "outputs": [
    {
     "name": "stdout",
     "output_type": "stream",
     "text": [
      "tensor([[ 2.,  4.,  6.],\n",
      "        [12., 15., 18.]])\n"
     ]
    }
   ],
   "source": [
    "X = torch.tensor([[1, 2, 3],\n",
    "                  [4, 5, 6]], dtype=torch.float)\n",
    "\n",
    "y = torch.tensor([2, 3], dtype=torch.float)\n",
    "# Element-wise multiplication of X and y\n",
    "result = X * y.view(-1, 1)\n",
    "print(result)"
   ]
  },
  {
   "cell_type": "code",
   "execution_count": 33,
   "id": "2a9106aa",
   "metadata": {},
   "outputs": [
    {
     "name": "stdout",
     "output_type": "stream",
     "text": [
      "tensor([[2., 0.],\n",
      "        [0., 3.]])\n",
      "tensor([[ 2.,  4.,  6.],\n",
      "        [12., 15., 18.]])\n"
     ]
    }
   ],
   "source": [
    "X = torch.tensor([[1, 2, 3],\n",
    "                  [4, 5, 6]], dtype=torch.float)\n",
    "\n",
    "y = torch.tensor([2, 3], dtype=torch.float)\n",
    "\n",
    "# Create a diagonal matrix from y\n",
    "diag_y = torch.diag(y)\n",
    "print(diag_y)\n",
    "# Multiply X by the diagonal matrix diag_y\n",
    "result = torch.mm(diag_y, X)\n",
    "\n",
    "print(result)"
   ]
  },
  {
   "cell_type": "code",
   "execution_count": 34,
   "id": "8fd14abf",
   "metadata": {},
   "outputs": [
    {
     "name": "stdout",
     "output_type": "stream",
     "text": [
      "tensor([[-0.3916]]) tensor([[1.2869]]) tensor([[-0.2001]]) tensor([[1.3707]])\n"
     ]
    }
   ],
   "source": [
    "n = 3\n",
    "\n",
    "partitions = 1\n",
    "eps = 1/partitions\n",
    "\n",
    "\n",
    "# l1 = 100\n",
    "# u1 = -100\n",
    "\n",
    "for p in range(partitions):\n",
    "    l = torch.ones((1,1))*eps*p    \n",
    "    u = torch.ones((1,1))*eps*(p+1)\n",
    "    L = torch.eye(1)\n",
    "    U = torch.eye(1)\n",
    "    \n",
    "    for i in range(n):\n",
    "        w = list(model.named_parameters())[2*i][1].data\n",
    "        b = list(model.named_parameters())[2*i+1][1].data\n",
    "        l, u = fc_interval(l, u, w, b)\n",
    "        L, U = fc_d_interval(L, U, w, b)\n",
    "        if i!=n-1:\n",
    "            L, U = relu_d_interval(l, u, L, U)\n",
    "            l, u = relu_interval(l, u)\n",
    "\n",
    "print(l, u, L, U)"
   ]
  },
  {
   "cell_type": "code",
   "execution_count": null,
   "id": "74adcbb5",
   "metadata": {},
   "outputs": [],
   "source": []
  }
 ],
 "metadata": {
  "kernelspec": {
   "display_name": "Python 3 (ipykernel)",
   "language": "python",
   "name": "python3"
  },
  "language_info": {
   "codemirror_mode": {
    "name": "ipython",
    "version": 3
   },
   "file_extension": ".py",
   "mimetype": "text/x-python",
   "name": "python",
   "nbconvert_exporter": "python",
   "pygments_lexer": "ipython3",
   "version": "3.9.17"
  }
 },
 "nbformat": 4,
 "nbformat_minor": 5
}
