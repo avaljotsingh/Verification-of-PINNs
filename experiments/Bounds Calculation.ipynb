{
 "cells": [
  {
   "cell_type": "code",
   "execution_count": null,
   "id": "ad393744",
   "metadata": {},
   "outputs": [],
   "source": [
    "import sys\n",
    "import torch\n",
    "sys.path.append(\"../src\")\n",
    "from interpret import Abs_interpreter\n",
    "from domain import Interval"
   ]
  },
  {
   "cell_type": "code",
   "execution_count": null,
   "id": "99170263",
   "metadata": {},
   "outputs": [],
   "source": [
    "model = torch.load(\"../trained_models/pinn-burgers.pt\")\n",
    "domain = Interval()\n",
    "abs_interpreter = Abs_interpreter(model, domain)\n",
    "val_bounds, deriv_bounds = abs_interpreter.forward_pass(0, 1)\n",
    "print(\"Val bounds:\", val_bounds)\n",
    "print(\"Deriv. bounds:\", deriv_bounds)"
   ]
  },
  {
   "cell_type": "code",
   "execution_count": null,
   "id": "357827fc",
   "metadata": {},
   "outputs": [],
   "source": []
  }
 ],
 "metadata": {
  "kernelspec": {
   "display_name": "Python 3 (ipykernel)",
   "language": "python",
   "name": "python3"
  },
  "language_info": {
   "codemirror_mode": {
    "name": "ipython",
    "version": 3
   },
   "file_extension": ".py",
   "mimetype": "text/x-python",
   "name": "python",
   "nbconvert_exporter": "python",
   "pygments_lexer": "ipython3",
   "version": "3.10.9"
  }
 },
 "nbformat": 4,
 "nbformat_minor": 5
}
