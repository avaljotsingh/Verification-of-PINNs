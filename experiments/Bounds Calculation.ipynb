{
 "cells": [
  {
   "cell_type": "code",
   "execution_count": 1,
   "id": "ad393744",
   "metadata": {},
   "outputs": [],
   "source": [
    "import sys\n",
    "import torch\n",
    "sys.path.append(\"../src\")\n",
    "from interpret import Abs_interpreter\n",
    "from domain import Interval"
   ]
  },
  {
   "cell_type": "code",
   "execution_count": 2,
   "id": "ca212e7a",
   "metadata": {},
   "outputs": [],
   "source": [
    "# Class to handle interval domain operations\n",
    "class IntervalDomainHandler():\n",
    "    def add(self, i1, i2):\n",
    "        return (i1[0]+i2[0], i1[1]+i2[1])\n",
    "    \n",
    "    def subtract(self, i1, i2):\n",
    "        return (i1[0]-i2[1], i1[1]-i2[0])\n",
    "    \n",
    "    def mul(self, i1, i2):\n",
    "        op1 = i1[0] * i2[0]\n",
    "        op2 = i1[0] * i2[1]\n",
    "        op3 = i1[1] * i2[0]\n",
    "        op4 = i1[1] * i2[1]\n",
    "        \n",
    "        return (min(op1, op2, op3, op4), max(op1, op2, op3, op4))"
   ]
  },
  {
   "cell_type": "code",
   "execution_count": 5,
   "id": "99170263",
   "metadata": {},
   "outputs": [],
   "source": [
    "def compute_pinn_burgers_residual_bounds(model_name, \n",
    "                                         inpx_range = (-1 + 0.001, 1 - 0.001), \n",
    "                                         inpt_range = (0 + 0.001, 2 - 0.001), \n",
    "                                         abstract_domain = 'Interval'):\n",
    "    \"\"\"\n",
    "    Takes in a pinn burgers model, input range and the abstract domain.\n",
    "    Computes the residual bound of the model on that input range using the specified abstract domain.\n",
    "    \"\"\"\n",
    "    model = torch.load(model_name)\n",
    "    \n",
    "    if abstract_domain == 'Interval':\n",
    "        domain = Interval()\n",
    "    else:\n",
    "        raise NotImplementedError(\"Unknown abstract domain: \" + domain)\n",
    "        \n",
    "    abs_interpreter = Abs_interpreter(model, domain)\n",
    "    lows = torch.tensor([inpx_range[0], inpt_range[0]]).reshape(-1,1)\n",
    "    highs = torch.tensor([inpx_range[1], inpt_range[1]]).reshape(-1,1)\n",
    "    val_bounds, deriv_bounds = abs_interpreter.forward_pass(lows, highs)\n",
    "\n",
    "    ul = val_bounds[0][0][0].item()\n",
    "    ur = val_bounds[1][0][0].item()\n",
    "    \n",
    "    uxl = deriv_bounds[0][0][0].item()\n",
    "    utl = deriv_bounds[0][0][1].item()\n",
    "    \n",
    "    uxr = deriv_bounds[1][0][0].item()\n",
    "    utr = deriv_bounds[1][0][1].item()\n",
    "        \n",
    "    interval_handler = IntervalDomainHandler()\n",
    "    \n",
    "    # ut + u*ux\n",
    "    residual_bounds = interval_handler.add((utl, utr), interval_handler.mul((ul, ur), (uxl, uxr)))\n",
    "    return residual_bounds"
   ]
  },
  {
   "cell_type": "markdown",
   "id": "12f8e49a",
   "metadata": {},
   "source": [
    "## Computing bounds using input splitting"
   ]
  },
  {
   "cell_type": "code",
   "execution_count": 28,
   "id": "357827fc",
   "metadata": {},
   "outputs": [],
   "source": [
    "def compute_pinn_bounds_using_input_splitting(model_name, \n",
    "                                              num_partitions, \n",
    "                                              inpx_range = (-1 + 0.001, 1 - 0.001), \n",
    "                                              inpt_range = (0 + 0.001, 2 - 0.001), \n",
    "                                              abstract_domain = 'Interval'):\n",
    "    \"\"\"\n",
    "    Compute pinn_burger bounds on the specified input range by partitioning into the specified\n",
    "    number of partitions.\n",
    "    \"\"\"\n",
    "    xeps = (inpx_range[1] - inpx_range[0])/num_partitions\n",
    "    teps = (inpt_range[1] - inpt_range[0])/num_partitions\n",
    "\n",
    "    l_final = None\n",
    "    u_final = None\n",
    "\n",
    "    for i in range(num_partitions):\n",
    "        for j in range(num_partitions):\n",
    "            bounds = compute_pinn_burgers_residual_bounds(model_name, \n",
    "                                                          inpx_range=(inpx_range[0] + xeps*i, inpx_range[0] + xeps*(i+1)),\n",
    "                                                          inpt_range=(inpt_range[0] + teps*j, inpt_range[0] + teps*(j+1)),\n",
    "                                                          abstract_domain = abstract_domain)\n",
    "\n",
    "            if l_final is None: l_final = bounds[0]\n",
    "            if u_final is None: u_final = bounds[1]\n",
    "\n",
    "            l_final = min(l_final, bounds[0])\n",
    "            u_final = max(u_final, bounds[1])\n",
    "\n",
    "    return l_final, u_final"
   ]
  },
  {
   "cell_type": "markdown",
   "id": "c1774e6f",
   "metadata": {},
   "source": [
    "## Analysis of pinn_burgers and pinn-burgers_weak (trained without residual loss)"
   ]
  },
  {
   "cell_type": "code",
   "execution_count": 36,
   "id": "5c9e9b7e",
   "metadata": {},
   "outputs": [
    {
     "name": "stdout",
     "output_type": "stream",
     "text": [
      "Pinn-burgers: (-1.8047287347853, 1.9116305007252379)\n",
      "Pinn-burgers_weak: (-2.0638001559456995, 2.7815532711250626)\n"
     ]
    }
   ],
   "source": [
    "# x between 0.1 to 1\n",
    "model1 = \"../trained_models/pinn-burgers.pt\"\n",
    "model2 = \"../trained_models/pinn-burgers_weak.pt\"\n",
    "partitions = 100\n",
    "inpx_range = (0.1,1)\n",
    "bounds1 = compute_pinn_bounds_using_input_splitting(model1, partitions, inpx_range)\n",
    "bounds2 = compute_pinn_bounds_using_input_splitting(model2, partitions, inpx_range)\n",
    "\n",
    "print(\"Pinn-burgers:\", bounds1)\n",
    "print(\"Pinn-burgers_weak:\", bounds2)"
   ]
  },
  {
   "cell_type": "code",
   "execution_count": 40,
   "id": "3f340845",
   "metadata": {},
   "outputs": [
    {
     "name": "stdout",
     "output_type": "stream",
     "text": [
      "Pinn-burgers: (-3.38285634112583, 2.5768619999422526)\n",
      "Pinn-burgers_weak: (-2.9292958971629446, 1.9219525203768626)\n"
     ]
    }
   ],
   "source": [
    "# x between -1 to -0.1\n",
    "model1 = \"../trained_models/pinn-burgers.pt\"\n",
    "model2 = \"../trained_models/pinn-burgers_weak.pt\"\n",
    "partitions = 100\n",
    "inpx_range = (-1, -0.1)\n",
    "bounds1 = compute_pinn_bounds_using_input_splitting(model1, partitions, inpx_range)\n",
    "bounds2 = compute_pinn_bounds_using_input_splitting(model2, partitions, inpx_range)\n",
    "\n",
    "print(\"Pinn-burgers:\", bounds1)\n",
    "print(\"Pinn-burgers_weak:\", bounds2)"
   ]
  },
  {
   "cell_type": "code",
   "execution_count": 38,
   "id": "c886c611",
   "metadata": {},
   "outputs": [
    {
     "name": "stdout",
     "output_type": "stream",
     "text": [
      "Pinn-burgers: (-118.62499661285983, 165.51782371094305)\n",
      "Pinn-burgers_weak: (-1.8750503478675782, 1.7940629348133044)\n"
     ]
    }
   ],
   "source": [
    "# x between -0.1 to 0.1\n",
    "model1 = \"../trained_models/pinn-burgers.pt\"\n",
    "model2 = \"../trained_models/pinn-burgers_weak.pt\"\n",
    "partitions = 100\n",
    "inpx_range = (-0.1, 0.1)\n",
    "bounds1 = compute_pinn_bounds_using_input_splitting(model1, partitions, inpx_range)\n",
    "bounds2 = compute_pinn_bounds_using_input_splitting(model2, partitions, inpx_range)\n",
    "\n",
    "print(\"Pinn-burgers:\", bounds1)\n",
    "print(\"Pinn-burgers_weak:\", bounds2)"
   ]
  },
  {
   "cell_type": "code",
   "execution_count": null,
   "id": "0891b12f",
   "metadata": {},
   "outputs": [],
   "source": []
  }
 ],
 "metadata": {
  "kernelspec": {
   "display_name": "Python 3 (ipykernel)",
   "language": "python",
   "name": "python3"
  },
  "language_info": {
   "codemirror_mode": {
    "name": "ipython",
    "version": 3
   },
   "file_extension": ".py",
   "mimetype": "text/x-python",
   "name": "python",
   "nbconvert_exporter": "python",
   "pygments_lexer": "ipython3",
   "version": "3.10.9"
  }
 },
 "nbformat": 4,
 "nbformat_minor": 5
}
