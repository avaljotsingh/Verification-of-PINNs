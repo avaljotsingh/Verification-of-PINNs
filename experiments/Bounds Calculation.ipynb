{
 "cells": [
  {
   "cell_type": "code",
   "execution_count": 1,
   "id": "ad393744",
   "metadata": {},
   "outputs": [],
   "source": [
    "import sys\n",
    "import torch\n",
    "sys.path.append(\"../src\")\n",
    "from interpret import Abs_interpreter\n",
    "from domain import Interval"
   ]
  },
  {
   "cell_type": "code",
   "execution_count": 2,
   "id": "ca212e7a",
   "metadata": {},
   "outputs": [],
   "source": [
    "# Class to handle interval domain operations\n",
    "class IntervalDomainHandler():\n",
    "    def add(self, i1, i2):\n",
    "        return (i1[0]+i2[0], i1[1]+i2[1])\n",
    "    \n",
    "    def subtract(self, i1, i2):\n",
    "        return (i1[0]-i2[1], i1[1]-i2[0])\n",
    "    \n",
    "    def mul(self, i1, i2):\n",
    "        op1 = i1[0] * i2[0]\n",
    "        op2 = i1[0] * i2[1]\n",
    "        op3 = i1[1] * i2[0]\n",
    "        op4 = i1[1] * i2[1]\n",
    "        \n",
    "        return (min(op1, op2, op3, op4), max(op1, op2, op3, op4))"
   ]
  },
  {
   "cell_type": "code",
   "execution_count": 5,
   "id": "99170263",
   "metadata": {},
   "outputs": [],
   "source": [
    "def compute_pinn_burgers_residual_bounds(model_name, \n",
    "                                         inpx_range = (-1 + 0.001, 1 - 0.001), \n",
    "                                         inpt_range = (0 + 0.001, 2 - 0.001), \n",
    "                                         abstract_domain = 'Interval'):\n",
    "    \"\"\"\n",
    "    Takes in a pinn burgers model, input range and the abstract domain.\n",
    "    Computes the residual bound of the model on that input range using the specified abstract domain.\n",
    "    \"\"\"\n",
    "    model = torch.load(model_name)\n",
    "    \n",
    "    if abstract_domain == 'Interval':\n",
    "        domain = Interval()\n",
    "    else:\n",
    "        raise NotImplementedError(\"Unknown abstract domain: \" + domain)\n",
    "        \n",
    "    abs_interpreter = Abs_interpreter(model, domain)\n",
    "    lows = torch.tensor([inpx_range[0], inpt_range[0]]).reshape(-1,1)\n",
    "    highs = torch.tensor([inpx_range[1], inpt_range[1]]).reshape(-1,1)\n",
    "    val_bounds, deriv_bounds = abs_interpreter.forward_pass(lows, highs)\n",
    "\n",
    "    ul = val_bounds[0][0][0].item()\n",
    "    ur = val_bounds[1][0][0].item()\n",
    "    \n",
    "    uxl = deriv_bounds[0][0][0].item()\n",
    "    utl = deriv_bounds[0][0][1].item()\n",
    "    \n",
    "    uxr = deriv_bounds[1][0][0].item()\n",
    "    utr = deriv_bounds[1][0][1].item()\n",
    "        \n",
    "    interval_handler = IntervalDomainHandler()\n",
    "    \n",
    "    # ut + u*ux\n",
    "    residual_bounds = interval_handler.add((utl, utr), interval_handler.mul((ul, ur), (uxl, uxr)))\n",
    "    return residual_bounds"
   ]
  },
  {
   "cell_type": "markdown",
   "id": "12f8e49a",
   "metadata": {},
   "source": [
    "## Computing bounds using input splitting"
   ]
  },
  {
   "cell_type": "code",
   "execution_count": 8,
   "id": "357827fc",
   "metadata": {},
   "outputs": [],
   "source": [
    "def compute_pinn_bounds_using_input_splitting(model_name, \n",
    "                                              num_partitions, \n",
    "                                              inpx_range = (-1 + 0.001, 1 - 0.001), \n",
    "                                              inpt_range = (0 + 0.001, 2 - 0.001), \n",
    "                                              abstract_domain = 'Interval'):\n",
    "    \"\"\"\n",
    "    Compute pinn_burger bounds on the specified input range by partitioning into the specified\n",
    "    number of partitions.\n",
    "    \"\"\"\n",
    "    xeps = (inpx_range[1] - inpx_range[0])/num_partitions\n",
    "    teps = (inpt_range[1] - inpt_range[0])/num_partitions\n",
    "\n",
    "    l_final = None\n",
    "    u_final = None\n",
    "\n",
    "    for i in range(num_partitions):\n",
    "        for j in range(num_partitions):\n",
    "            bounds = compute_pinn_burgers_residual_bounds(model_name, \n",
    "                                                          inpx_range=(inpx_range[0] + xeps*i, inpx_range[0] + xeps*(i+1)),\n",
    "                                                          inpt_range=(inpt_range[0] + teps*j, inpt_range[0] + teps*(j+1)),\n",
    "                                                          abstract_domain = abstract_domain)\n",
    "\n",
    "            if l_final is None: l_final = bounds[0]\n",
    "            if u_final is None: u_final = bounds[1]\n",
    "\n",
    "            l_final = min(l_final, bounds[0])\n",
    "            u_final = max(u_final, bounds[1])\n",
    "\n",
    "    return l_final, u_final"
   ]
  },
  {
   "cell_type": "code",
   "execution_count": 11,
   "id": "5c9e9b7e",
   "metadata": {},
   "outputs": [
    {
     "name": "stdout",
     "output_type": "stream",
     "text": [
      "(-1547.4691210356614, 1655.8961358222296)\n"
     ]
    }
   ],
   "source": [
    "print(compute_pinn_bounds_using_input_splitting(\"../trained_models/pinn-burgers.pt\", 20))"
   ]
  },
  {
   "cell_type": "code",
   "execution_count": 12,
   "id": "3f340845",
   "metadata": {},
   "outputs": [
    {
     "name": "stdout",
     "output_type": "stream",
     "text": [
      "(-10.846220347932103, 10.029506655381965)\n"
     ]
    }
   ],
   "source": [
    "print(compute_pinn_bounds_using_input_splitting(\"../trained_models/pinn-burgers_weak.pt\", 20))"
   ]
  },
  {
   "cell_type": "code",
   "execution_count": null,
   "id": "c886c611",
   "metadata": {},
   "outputs": [],
   "source": []
  }
 ],
 "metadata": {
  "kernelspec": {
   "display_name": "Python 3 (ipykernel)",
   "language": "python",
   "name": "python3"
  },
  "language_info": {
   "codemirror_mode": {
    "name": "ipython",
    "version": 3
   },
   "file_extension": ".py",
   "mimetype": "text/x-python",
   "name": "python",
   "nbconvert_exporter": "python",
   "pygments_lexer": "ipython3",
   "version": "3.10.9"
  }
 },
 "nbformat": 4,
 "nbformat_minor": 5
}
