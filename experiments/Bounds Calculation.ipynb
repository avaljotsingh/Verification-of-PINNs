{
 "cells": [
  {
   "cell_type": "code",
   "execution_count": 1,
   "id": "ad393744",
   "metadata": {},
   "outputs": [],
   "source": [
    "import matplotlib.pyplot as plt\n",
    "import sys\n",
    "import torch\n",
    "sys.path.append(\"../src\")\n",
    "from interpret import Abs_interpreter\n",
    "from domain import Interval\n",
    "import numpy as np"
   ]
  },
  {
   "cell_type": "code",
   "execution_count": 2,
   "id": "ca212e7a",
   "metadata": {},
   "outputs": [],
   "source": [
    "# Class to handle interval domain operations\n",
    "class IntervalDomainHandler():\n",
    "    def add(self, i1, i2):\n",
    "        return (i1[0]+i2[0], i1[1]+i2[1])\n",
    "    \n",
    "    def subtract(self, i1, i2):\n",
    "        return (i1[0]-i2[1], i1[1]-i2[0])\n",
    "    \n",
    "    def mul(self, i1, i2):\n",
    "        op1 = i1[0] * i2[0]\n",
    "        op2 = i1[0] * i2[1]\n",
    "        op3 = i1[1] * i2[0]\n",
    "        op4 = i1[1] * i2[1]\n",
    "        \n",
    "        return (min(op1, op2, op3, op4), max(op1, op2, op3, op4))"
   ]
  },
  {
   "cell_type": "code",
   "execution_count": 3,
   "id": "99170263",
   "metadata": {},
   "outputs": [
    {
     "name": "stdout",
     "output_type": "stream",
     "text": [
      "(-3099.03947305414, 2953.5979534400294)\n",
      "(-554.8469060334509, 505.6887503774507)\n",
      "(-63.13605765095802, 59.494583046208874)\n"
     ]
    }
   ],
   "source": [
    "mu = .01 / np.pi\n",
    "\n",
    "def compute_pinn_burgers_residual_bounds(model_name, \n",
    "                                         inpx_range = (-1 + 0.001, 1 - 0.001), \n",
    "                                         inpt_range = (0 + 0.001, 1 - 0.001), \n",
    "                                         abstract_domain = 'Interval'):\n",
    "    \"\"\"\n",
    "    Takes in a pinn burgers model, input range and the abstract domain.\n",
    "    Computes the residual bound of the model on that input range using the specified abstract domain.\n",
    "    \"\"\"\n",
    "    model = torch.load(model_name)\n",
    "    \n",
    "    if abstract_domain == 'Interval':\n",
    "        domain = Interval()\n",
    "    else:\n",
    "        raise NotImplementedError(\"Unknown abstract domain: \" + domain)\n",
    "        \n",
    "    abs_interpreter = Abs_interpreter(model, domain)\n",
    "    lows = torch.tensor([inpx_range[0], inpt_range[0]]).reshape(-1,1)\n",
    "    highs = torch.tensor([inpx_range[1], inpt_range[1]]).reshape(-1,1)\n",
    "    val_bounds, deriv_bounds, deriv2_bounds = abs_interpreter.forward_pass(lows, highs)\n",
    "\n",
    "    ul = val_bounds[0][0][0].item()\n",
    "    ur = val_bounds[1][0][0].item()\n",
    "    \n",
    "    uxl = deriv_bounds[0][0][0].item()\n",
    "    utl = deriv_bounds[0][0][1].item()\n",
    "    \n",
    "    uxr = deriv_bounds[1][0][0].item()\n",
    "    utr = deriv_bounds[1][0][1].item()\n",
    "    \n",
    "#     print(deriv2_bounds)\n",
    "    uxxl = deriv2_bounds[0][0][0].item()\n",
    "    uxxr = deriv2_bounds[1][0][0].item()\n",
    "#     print(uxxl, uxxr)\n",
    "        \n",
    "    interval_handler = IntervalDomainHandler()\n",
    "    \n",
    "    \n",
    "    # ut + u*ux - mu*uxx\n",
    "    residual_bounds = interval_handler.add((utl, utr), interval_handler.mul((ul, ur), (uxl, uxr)))\n",
    "    residual_bounds = interval_handler.subtract(residual_bounds, (mu*uxxl, mu*uxxr))\n",
    "    return residual_bounds\n",
    "\n",
    "## Bounds without splitting\n",
    "print(compute_pinn_burgers_residual_bounds(\"../trained_models/pinn-burgers.pt\"))\n",
    "print(compute_pinn_burgers_residual_bounds(\"../trained_models/pinn-burgers-vis.pt\"))\n",
    "print(compute_pinn_burgers_residual_bounds(\"../trained_models/pinn-burgers_weak.pt\"))"
   ]
  },
  {
   "cell_type": "markdown",
   "id": "12f8e49a",
   "metadata": {},
   "source": [
    "## Computing bounds using input splitting"
   ]
  },
  {
   "cell_type": "code",
   "execution_count": 4,
   "id": "357827fc",
   "metadata": {},
   "outputs": [],
   "source": [
    "def compute_pinn_bounds_using_input_splitting(model_name, \n",
    "                                              num_partitions, \n",
    "                                              inpx_range = (-1 + 0.001, 1 - 0.001), \n",
    "                                              inpt_range = (0 + 0.001, 1 - 0.001), \n",
    "                                              abstract_domain = 'Interval'):\n",
    "    \"\"\"\n",
    "    Compute pinn_burger bounds on the specified input range by partitioning into the specified\n",
    "    number of partitions.\n",
    "    \"\"\"\n",
    "    xeps = (inpx_range[1] - inpx_range[0])/num_partitions\n",
    "    teps = (inpt_range[1] - inpt_range[0])/num_partitions\n",
    "\n",
    "    l_final = None\n",
    "    u_final = None\n",
    "\n",
    "    for i in range(num_partitions):\n",
    "        for j in range(num_partitions):\n",
    "            bounds = compute_pinn_burgers_residual_bounds(model_name, \n",
    "                                                          inpx_range=(inpx_range[0] + xeps*i, inpx_range[0] + xeps*(i+1)),\n",
    "                                                          inpt_range=(inpt_range[0] + teps*j, inpt_range[0] + teps*(j+1)),\n",
    "                                                          abstract_domain = abstract_domain)\n",
    "\n",
    "            if l_final is None: l_final = bounds[0]\n",
    "            if u_final is None: u_final = bounds[1]\n",
    "\n",
    "            l_final = min(l_final, bounds[0])\n",
    "            u_final = max(u_final, bounds[1])\n",
    "\n",
    "    return l_final, u_final"
   ]
  },
  {
   "cell_type": "markdown",
   "id": "f21d5e39",
   "metadata": {},
   "source": [
    "## Analysis of pinn_burgers and pinn-burgers_weak (trained without residual loss)"
   ]
  },
  {
   "cell_type": "code",
   "execution_count": null,
   "id": "5c9e9b7e",
   "metadata": {},
   "outputs": [],
   "source": [
    "# x between 0.1 to 1\n",
    "model1 = \"../trained_models/pinn-burgers-vis.pt\"\n",
    "model2 = \"../trained_models/pinn-burgers_weak.pt\"\n",
    "x_range = (-1.0, -0.25)\n",
    "\n",
    "# partitions = 1\n",
    "# bounds1 = compute_pinn_bounds_using_input_splitting(model1, partitions, inpx_range=x_range)\n",
    "# print(\"Pinn-burgers:\", bounds1)\n",
    "\n",
    "# partitions = 10\n",
    "# bounds1 = compute_pinn_bounds_using_input_splitting(model1, partitions, inpx_range=x_range)\n",
    "# print(\"Pinn-burgers:\", bounds1)\n",
    "\n",
    "# partitions = 30\n",
    "# bounds1 = compute_pinn_bounds_using_input_splitting(model1, partitions, inpx_range=x_range)\n",
    "# print(\"Pinn-burgers:\", bounds1)\n",
    "\n",
    "# partitions = 50\n",
    "# bounds1 = compute_pinn_bounds_using_input_splitting(model1, partitions, inpx_range=x_range)\n",
    "# print(\"Pinn-burgers:\", bounds1)\n",
    "\n",
    "# partitions = 70\n",
    "# bounds1 = compute_pinn_bounds_using_input_splitting(model1, partitions, inpx_range=x_range)\n",
    "# print(\"Pinn-burgers:\", bounds1)\n",
    "\n",
    "# partitions = 100\n",
    "# bounds1 = compute_pinn_bounds_using_input_splitting(model1, partitions, inpx_range=x_range)\n",
    "# print(\"Pinn-burgers:\", bounds1)\n",
    "\n",
    "partitions = 300\n",
    "bounds1 = compute_pinn_bounds_using_input_splitting(model1, partitions, inpx_range=x_range)\n",
    "print(\"Pinn-burgers:\", bounds1)"
   ]
  },
  {
   "cell_type": "code",
   "execution_count": null,
   "id": "d26772a4",
   "metadata": {},
   "outputs": [],
   "source": [
    "# x between 0.1 to 1\n",
    "model2 = \"../trained_models/pinn-burgers-vis.pt\"\n",
    "model1 = \"../trained_models/pinn-burgers_weak.pt\"\n",
    "\n",
    "# partitions = 1\n",
    "# bounds1 = compute_pinn_bounds_using_input_splitting(model1, partitions, inpx_range=x_range)\n",
    "# print(\"Pinn-burgers:\", bounds1)\n",
    "\n",
    "# partitions = 10\n",
    "# bounds1 = compute_pinn_bounds_using_input_splitting(model1, partitions, inpx_range=x_range)\n",
    "# print(\"Pinn-burgers:\", bounds1)\n",
    "\n",
    "# partitions = 30\n",
    "# bounds1 = compute_pinn_bounds_using_input_splitting(model1, partitions, inpx_range=x_range)\n",
    "# print(\"Pinn-burgers:\", bounds1)\n",
    "\n",
    "# partitions = 50\n",
    "# bounds1 = compute_pinn_bounds_using_input_splitting(model1, partitions, inpx_range=x_range)\n",
    "# print(\"Pinn-burgers:\", bounds1)\n",
    "\n",
    "# partitions = 70\n",
    "# bounds1 = compute_pinn_bounds_using_input_splitting(model1, partitions, inpx_range=x_range)\n",
    "# print(\"Pinn-burgers:\", bounds1)\n",
    "\n",
    "# partitions = 100\n",
    "# bounds1 = compute_pinn_bounds_using_input_splitting(model1, partitions, inpx_range=x_range)\n",
    "# print(\"Pinn-burgers:\", bounds1)\n",
    "\n",
    "partitions = 300\n",
    "bounds1 = compute_pinn_bounds_using_input_splitting(model1, partitions, inpx_range=x_range)\n",
    "print(\"Pinn-burgers:\", bounds1)"
   ]
  },
  {
   "cell_type": "code",
   "execution_count": 10,
   "id": "778a64eb",
   "metadata": {},
   "outputs": [
    {
     "data": {
      "image/png": "[encoded data removed]",
      "text/plain": [
       "<Figure size 1000x500 with 2 Axes>"
      ]
     },
     "metadata": {},
     "output_type": "display_data"
    }
   ],
   "source": [
    "model2 = \"../trained_models/pinn-burgers-vis.pt\"\n",
    "# model2 = \"../trained_models/pinn-burgers_weak.pt\"\n",
    "model = torch.load(model2)\n",
    "plt.figure(figsize = (10, 5))\n",
    "n = 1000\n",
    "xs, ts = torch.meshgrid(torch.linspace(-1.0, 1, n), torch.linspace(0.0, 1.0, n))\n",
    "xs = xs.reshape(-1, 1).requires_grad_(False)\n",
    "ts = ts.reshape(-1, 1).requires_grad_(False)\n",
    "f = model(torch.cat([xs, ts], dim=1)).reshape((n ,n))\n",
    "heatmap = plt.imshow(f.detach().numpy(), extent=[0,1,-1,1], cmap='seismic', interpolation='nearest', aspect='auto')\n",
    "plt.colorbar(heatmap)\n",
    "plt.xlabel(r'$t$')\n",
    "plt.ylabel(r'$x$')\n",
    "plt.title(r'$u(x,t)$')\n",
    "plt.show()"
   ]
  },
  {
   "cell_type": "code",
   "execution_count": null,
   "id": "3f340845",
   "metadata": {},
   "outputs": [],
   "source": [
    "# x between -1 to -0.1\n",
    "model1 = \"../trained_models/pinn-burgers.pt\"\n",
    "model2 = \"../trained_models/pinn-burgers_weak.pt\"\n",
    "partitions = 100\n",
    "inpx_range = (-1, -0.1)\n",
    "bounds1 = compute_pinn_bounds_using_input_splitting(model1, partitions, inpx_range)\n",
    "bounds2 = compute_pinn_bounds_using_input_splitting(model2, partitions, inpx_range)\n",
    "\n",
    "print(\"Pinn-burgers:\", bounds1)\n",
    "print(\"Pinn-burgers_weak:\", bounds2)"
   ]
  },
  {
   "cell_type": "code",
   "execution_count": null,
   "id": "c886c611",
   "metadata": {},
   "outputs": [],
   "source": [
    "# x between -0.1 to 0.1\n",
    "model1 = \"../trained_models/pinn-burgers.pt\"\n",
    "model2 = \"../trained_models/pinn-burgers_weak.pt\"\n",
    "partitions = 100\n",
    "inpx_range = (-0.1, 0.1)\n",
    "bounds1 = compute_pinn_bounds_using_input_splitting(model1, partitions, inpx_range)\n",
    "bounds2 = compute_pinn_bounds_using_input_splitting(model2, partitions, inpx_range)\n",
    "\n",
    "print(\"Pinn-burgers:\", bounds1)\n",
    "print(\"Pinn-burgers_weak:\", bounds2)"
   ]
  },
  {
   "cell_type": "code",
   "execution_count": null,
   "id": "21090a2c",
   "metadata": {},
   "outputs": [],
   "source": [
    "# Time between 0 and 0.2\n",
    "model1 = \"../trained_models/pinn-burgers.pt\"\n",
    "model2 = \"../trained_models/pinn-burgers_weak.pt\"\n",
    "partitions = 100\n",
    "inpt_range = (0, 0.2)\n",
    "bounds1 = compute_pinn_bounds_using_input_splitting(model1, partitions, inpt_range=inpt_range)\n",
    "bounds2 = compute_pinn_bounds_using_input_splitting(model2, partitions, inpt_range=inpt_range)\n",
    "\n",
    "print(\"Pinn-burgers:\", bounds1)\n",
    "print(\"Pinn-burgers_weak:\", bounds2)"
   ]
  },
  {
   "cell_type": "code",
   "execution_count": null,
   "id": "3dc75ca2",
   "metadata": {},
   "outputs": [],
   "source": [
    "# Time between 0.2 and 1\n",
    "model1 = \"../trained_models/pinn-burgers.pt\"\n",
    "model2 = \"../trained_models/pinn-burgers_weak.pt\"\n",
    "partitions = 100\n",
    "inpt_range = (0.2, 1)\n",
    "bounds1 = compute_pinn_bounds_using_input_splitting(model1, partitions, inpt_range=inpt_range)\n",
    "bounds2 = compute_pinn_bounds_using_input_splitting(model2, partitions, inpt_range=inpt_range)\n",
    "\n",
    "print(\"Pinn-burgers:\", bounds1)\n",
    "print(\"Pinn-burgers_weak:\", bounds2)"
   ]
  },
  {
   "cell_type": "markdown",
   "id": "bb88efa9",
   "metadata": {},
   "source": [
    "## Visualizing per partition bounds"
   ]
  },
  {
   "cell_type": "code",
   "execution_count": null,
   "id": "2e35782d",
   "metadata": {},
   "outputs": [],
   "source": [
    "def visualize_per_partition_bounds(model_name, \n",
    "                                 num_partitions, \n",
    "                                 inpx_range = (-1 + 0.001, 1 - 0.001), \n",
    "                                 inpt_range = (0 + 0.001, 1 - 0.001), \n",
    "                                 abstract_domain = 'Interval'):\n",
    "    xeps = (inpx_range[1] - inpx_range[0])/num_partitions\n",
    "    teps = (inpt_range[1] - inpt_range[0])/num_partitions\n",
    "\n",
    "    l_final = None\n",
    "    u_final = None\n",
    "    \n",
    "    t = []\n",
    "    for i in range(num_partitions):\n",
    "        for j in range(num_partitions):\n",
    "            inpx = (inpx_range[0] + xeps*i, inpx_range[0] + xeps*(i+1))\n",
    "            inpt = (inpt_range[0] + teps*j, inpt_range[0] + teps*(j+1))\n",
    "            bounds = compute_pinn_burgers_residual_bounds(model_name, \n",
    "                                                          inpx_range=inpx,\n",
    "                                                          inpt_range=inpt,\n",
    "                                                          abstract_domain = abstract_domain)\n",
    "            \n",
    "            t.append(max(abs(bounds[0]), abs(bounds[1])))\n",
    "    \n",
    "    t = torch.tensor(t).reshape(num_partitions, num_partitions)\n",
    "    heatmap = plt.imshow(t.detach().numpy(), \n",
    "                         extent=[inpt_range[0], inpt_range[1], inpx_range[0], inpx_range[1]], \n",
    "                         cmap='Blues', interpolation='nearest', aspect='auto')\n",
    "    plt.colorbar(heatmap)\n",
    "    plt.xlabel(r'$t$')\n",
    "    plt.ylabel(r'$x$')\n",
    "    plt.title(r'$u_t + u * u_x$')\n",
    "    plt.show()"
   ]
  },
  {
   "cell_type": "code",
   "execution_count": null,
   "id": "62587def",
   "metadata": {},
   "outputs": [],
   "source": [
    "model0 = \"../trained_models/pinn-burgers.pt\"\n",
    "model1 = \"../trained_models/pinn-burgers-vis.pt\"\n",
    "model2 = \"../trained_models/pinn-burgers_weak.pt\"\n",
    "partitions = 100\n",
    "inpx_range = (0.25,0.3)\n",
    "inpt_range = (0.8, 1)\n",
    "# visualize_per_partition_bounds(model0, partitions, inpx_range = inpx_range, inpt_range = inpt_range)\n",
    "visualize_per_partition_bounds(model1, partitions, inpx_range = inpx_range, inpt_range = inpt_range)\n",
    "visualize_per_partition_bounds(model2, partitions, inpx_range = inpx_range, inpt_range = inpt_range)"
   ]
  },
  {
   "cell_type": "code",
   "execution_count": null,
   "id": "c19a1cca",
   "metadata": {},
   "outputs": [],
   "source": [
    "model1 = \"../trained_models/pinn-burgers.pt\"\n",
    "model2 = \"../trained_models/pinn-burgers_weak.pt\"\n",
    "partitions = 200\n",
    "inpt_range = (0, 0.2)\n",
    "visualize_per_partition_bounds(model1, partitions, inpt_range=inpt_range)\n",
    "visualize_per_partition_bounds(model2, partitions, inpt_range=inpt_range)"
   ]
  },
  {
   "cell_type": "code",
   "execution_count": null,
   "id": "f186a4d4",
   "metadata": {},
   "outputs": [],
   "source": [
    "model1 = \"../trained_models/pinn-burgers.pt\"\n",
    "model2 = \"../trained_models/pinn-burgers_weak.pt\"\n",
    "partitions = 200\n",
    "inpt_range = (0.2, 1)\n",
    "visualize_per_partition_bounds(model1, partitions, inpt_range=inpt_range)\n",
    "visualize_per_partition_bounds(model2, partitions, inpt_range=inpt_range)"
   ]
  },
  {
   "cell_type": "code",
   "execution_count": null,
   "id": "26ab0835",
   "metadata": {},
   "outputs": [],
   "source": []
  }
 ],
 "metadata": {
  "kernelspec": {
   "display_name": "Python 3 (ipykernel)",
   "language": "python",
   "name": "python3"
  },
  "language_info": {
   "codemirror_mode": {
    "name": "ipython",
    "version": 3
   },
   "file_extension": ".py",
   "mimetype": "text/x-python",
   "name": "python",
   "nbconvert_exporter": "python",
   "pygments_lexer": "ipython3",
   "version": "3.11.5"
  }
 },
 "nbformat": 4,
 "nbformat_minor": 5
}
